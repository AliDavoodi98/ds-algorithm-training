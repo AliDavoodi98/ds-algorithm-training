{
  "nbformat": 4,
  "nbformat_minor": 0,
  "metadata": {
    "colab": {
      "provenance": [],
      "authorship_tag": "ABX9TyPPSF7wRdypFFdq78le9cmz",
      "include_colab_link": true
    },
    "kernelspec": {
      "name": "python3",
      "display_name": "Python 3"
    },
    "language_info": {
      "name": "python"
    }
  },
  "cells": [
    {
      "cell_type": "markdown",
      "metadata": {
        "id": "view-in-github",
        "colab_type": "text"
      },
      "source": [
        "<a href=\"https://colab.research.google.com/github/AliDavoodi98/ds-algorithm-training/blob/main/leetcode/3.Move_Zeros.ipynb\" target=\"_parent\"><img src=\"https://colab.research.google.com/assets/colab-badge.svg\" alt=\"Open In Colab\"/></a>"
      ]
    },
    {
      "cell_type": "code",
      "execution_count": 8,
      "metadata": {
        "id": "Ys6bl5BmM07t"
      },
      "outputs": [],
      "source": [
        "nums = [0,1,0,3,12]\n",
        "for i in nums:\n",
        "  if i == 0:\n",
        "    nums.remove(i)\n",
        "    nums.append(0)\n",
        "\n",
        "nums = nums"
      ]
    },
    {
      "cell_type": "code",
      "source": [
        "nums"
      ],
      "metadata": {
        "colab": {
          "base_uri": "https://localhost:8080/"
        },
        "id": "-XCbkTQVarwH",
        "outputId": "1fedfc26-8a5b-4b1f-bfb5-03a5a12d2659"
      },
      "execution_count": 9,
      "outputs": [
        {
          "output_type": "execute_result",
          "data": {
            "text/plain": [
              "[1, 3, 12, 0, 0]"
            ]
          },
          "metadata": {},
          "execution_count": 9
        }
      ]
    },
    {
      "cell_type": "code",
      "source": [],
      "metadata": {
        "id": "24eAgOjdbHCs"
      },
      "execution_count": null,
      "outputs": []
    }
  ]
}