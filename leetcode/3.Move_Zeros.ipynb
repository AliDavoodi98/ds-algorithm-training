{
  "nbformat": 4,
  "nbformat_minor": 0,
  "metadata": {
    "colab": {
      "provenance": [],
      "authorship_tag": "ABX9TyNhTjlAXLZkr2sMvFj7EADN",
      "include_colab_link": true
    },
    "kernelspec": {
      "name": "python3",
      "display_name": "Python 3"
    },
    "language_info": {
      "name": "python"
    }
  },
  "cells": [
    {
      "cell_type": "markdown",
      "metadata": {
        "id": "view-in-github",
        "colab_type": "text"
      },
      "source": [
        "<a href=\"https://colab.research.google.com/github/AliDavoodi98/ds-algorithm-training/blob/main/leetcode/3.Move_Zeros.ipynb\" target=\"_parent\"><img src=\"https://colab.research.google.com/assets/colab-badge.svg\" alt=\"Open In Colab\"/></a>"
      ]
    },
    {
      "cell_type": "code",
      "execution_count": null,
      "metadata": {
        "id": "Ys6bl5BmM07t"
      },
      "outputs": [],
      "source": [
        "nums = [0,1,0,3,12]\n",
        "\n",
        "for i in range(len(nums)):\n",
        "  if nums[i]==0 and nums"
      ]
    }
  ]
}