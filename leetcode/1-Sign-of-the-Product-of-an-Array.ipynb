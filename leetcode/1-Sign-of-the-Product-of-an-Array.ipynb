{
  "nbformat": 4,
  "nbformat_minor": 0,
  "metadata": {
    "colab": {
      "provenance": [],
      "authorship_tag": "ABX9TyMMlo7WeFcdcw3vFmswBOVl",
      "include_colab_link": true
    },
    "kernelspec": {
      "name": "python3",
      "display_name": "Python 3"
    },
    "language_info": {
      "name": "python"
    }
  },
  "cells": [
    {
      "cell_type": "markdown",
      "metadata": {
        "id": "view-in-github",
        "colab_type": "text"
      },
      "source": [
        "<a href=\"https://colab.research.google.com/github/AliDavoodi98/ds-algorithm-training/blob/main/leetcode/1-Sign-of-the-Product-of-an-Array.ipynb\" target=\"_parent\"><img src=\"https://colab.research.google.com/assets/colab-badge.svg\" alt=\"Open In Colab\"/></a>"
      ]
    },
    {
      "cell_type": "code",
      "execution_count": 2,
      "metadata": {
        "id": "_OzhANx-LZeR",
        "colab": {
          "base_uri": "https://localhost:8080/",
          "height": 106
        },
        "outputId": "cf693a9d-be2b-434e-ada2-96906a38306a"
      },
      "outputs": [
        {
          "output_type": "error",
          "ename": "SyntaxError",
          "evalue": "incomplete input (<ipython-input-2-915ef3f5effb>, line 6)",
          "traceback": [
            "\u001b[0;36m  File \u001b[0;32m\"<ipython-input-2-915ef3f5effb>\"\u001b[0;36m, line \u001b[0;32m6\u001b[0m\n\u001b[0;31m    elif i < 0:\u001b[0m\n\u001b[0m               ^\u001b[0m\n\u001b[0;31mSyntaxError\u001b[0m\u001b[0;31m:\u001b[0m incomplete input\n"
          ]
        }
      ],
      "source": [
        "class Solution:\n",
        "    def arraySign(self, nums: List[int]) -> int:\n",
        "        t = 1\n",
        "\n",
        "        for i in nums:\n",
        "            if i == 0:\n",
        "                return 0\n",
        "\n",
        "            if i * t < 0:\n",
        "                t = -1\n",
        "            elif i * t > 0:\n",
        "                t = 1\n",
        "        return t\n",
        ""
      ]
    },
    {
      "cell_type": "code",
      "source": [],
      "metadata": {
        "id": "3LfnBLWDNCla"
      },
      "execution_count": null,
      "outputs": []
    }
  ]
}