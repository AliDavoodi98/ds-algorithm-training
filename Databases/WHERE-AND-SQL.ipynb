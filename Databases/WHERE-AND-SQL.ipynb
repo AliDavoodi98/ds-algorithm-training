{
  "nbformat": 4,
  "nbformat_minor": 0,
  "metadata": {
    "colab": {
      "provenance": [],
      "authorship_tag": "ABX9TyN9xSm/wfMEViwtUc9v+z1d",
      "include_colab_link": true
    },
    "kernelspec": {
      "name": "python3",
      "display_name": "Python 3"
    },
    "language_info": {
      "name": "python"
    }
  },
  "cells": [
    {
      "cell_type": "markdown",
      "metadata": {
        "id": "view-in-github",
        "colab_type": "text"
      },
      "source": [
        "<a href=\"https://colab.research.google.com/github/AliDavoodi98/ds-algorithm-training/blob/main/Databases/WHERE-AND-SQL.ipynb\" target=\"_parent\"><img src=\"https://colab.research.google.com/assets/colab-badge.svg\" alt=\"Open In Colab\"/></a>"
      ]
    },
    {
      "cell_type": "markdown",
      "source": [
        "**Selecting a Few Columns and Filtering Data Using Two Conditions in WHERE**\n",
        "\n",
        "---\n",
        "\n"
      ],
      "metadata": {
        "id": "RgWZw8lHedfH"
      }
    },
    {
      "cell_type": "code",
      "execution_count": 6,
      "metadata": {
        "id": "Ys6bl5BmM07t"
      },
      "outputs": [],
      "source": [
        "import pandas as pd\n",
        "import numpy as np\n",
        "\n",
        "# Generate some example data for movies\n",
        "np.random.seed(0)\n",
        "\n",
        "# Movie titles (example set)\n",
        "movie_titles = [f\"Movie {i}\" for i in range(1, 101)]\n",
        "\n",
        "# Genres (randomly assigned)\n",
        "genres = np.random.choice(['Action', 'Comedy', 'Drama', 'Horror', 'Sci-Fi', 'Romance', 'Adventure'], 100)\n",
        "\n",
        "# Release years (randomly between 1980 and 2023)\n",
        "release_years = np.random.randint(1980, 2024, size=100)\n",
        "\n",
        "# Directors (example set)\n",
        "directors = np.random.choice(['Director A', 'Director B', 'Director C', 'Director D', 'Director E'], 100)\n",
        "\n",
        "# Cast (each movie will have 3 random actors)\n",
        "actors = ['Actor X', 'Actor Y', 'Actor Z', 'Actor W', 'Actor V', 'Actor U', 'Actor T']\n",
        "cast = [', '.join(np.random.choice(actors, 1, replace=False)) for _ in range(100)]\n",
        "\n",
        "# Ratings (random float values between 1 and 10)\n",
        "ratings = np.round(np.random.uniform(1, 10, 100), 1)\n",
        "\n",
        "# Box office earnings (random values between $10M and $500M)\n",
        "box_office = np.random.randint(10, 500, size=100) * 1e6\n",
        "\n",
        "# Creating the DataFrame\n",
        "df = pd.DataFrame({\n",
        "    'Title': movie_titles,\n",
        "    'Genre': genres,\n",
        "    'Release Year': release_years,\n",
        "    'Director': directors,\n",
        "    'Cast': cast,\n",
        "    'Rating': ratings,\n",
        "    'Box Office ($)': box_office\n",
        "})\n",
        "\n"
      ]
    },
    {
      "cell_type": "code",
      "source": [
        "import sqlite3\n",
        "\n",
        "# Create an in-memory SQLite database\n",
        "conn = sqlite3.connect(':memory:')\n",
        "cursor = conn.cursor()\n",
        "\n",
        "# Load the DataFrame into the SQL database\n",
        "df.to_sql('my_table', conn, index=False, if_exists='replace')\n",
        "\n",
        "# Example: Run an SQL query\n",
        "query = 'SELECT * FROM my_table WHERE \"Release Year\">2003 AND Rating>6.8'\n",
        "result = pd.read_sql_query(query, conn)\n",
        "\n",
        "# Display the query result\n",
        "print(result)"
      ],
      "metadata": {
        "colab": {
          "base_uri": "https://localhost:8080/"
        },
        "id": "-XCbkTQVarwH",
        "outputId": "49f66f8f-fef6-4880-9b09-f5542be054c4"
      },
      "execution_count": 21,
      "outputs": [
        {
          "output_type": "stream",
          "name": "stdout",
          "text": [
            "       Title      Genre  Release Year    Director     Cast  Rating  \\\n",
            "0    Movie 6     Horror          2021  Director A  Actor U     9.0   \n",
            "1   Movie 13     Action          2016  Director D  Actor X     7.3   \n",
            "2   Movie 18  Adventure          2022  Director C  Actor Y     9.2   \n",
            "3   Movie 20     Action          2019  Director E  Actor X     9.1   \n",
            "4   Movie 28     Horror          2014  Director D  Actor V     9.8   \n",
            "5   Movie 48      Drama          2012  Director E  Actor T    10.0   \n",
            "6   Movie 50     Horror          2018  Director D  Actor W     7.5   \n",
            "7   Movie 52     Horror          2022  Director A  Actor Z     8.3   \n",
            "8   Movie 53      Drama          2020  Director A  Actor X     9.8   \n",
            "9   Movie 55      Drama          2010  Director B  Actor W     7.9   \n",
            "10  Movie 56     Action          2004  Director A  Actor T     7.3   \n",
            "11  Movie 63     Sci-Fi          2020  Director A  Actor W     8.0   \n",
            "12  Movie 68      Drama          2006  Director C  Actor U     7.7   \n",
            "13  Movie 83    Romance          2005  Director D  Actor T     8.7   \n",
            "14  Movie 88     Horror          2012  Director B  Actor U     9.8   \n",
            "15  Movie 95     Sci-Fi          2004  Director B  Actor V     7.0   \n",
            "16  Movie 97     Action          2021  Director C  Actor W     7.4   \n",
            "\n",
            "    Box Office ($)  \n",
            "0       21000000.0  \n",
            "1       99000000.0  \n",
            "2      417000000.0  \n",
            "3      269000000.0  \n",
            "4      465000000.0  \n",
            "5       98000000.0  \n",
            "6      334000000.0  \n",
            "7      381000000.0  \n",
            "8      480000000.0  \n",
            "9      359000000.0  \n",
            "10     112000000.0  \n",
            "11     175000000.0  \n",
            "12     467000000.0  \n",
            "13      83000000.0  \n",
            "14     383000000.0  \n",
            "15     482000000.0  \n",
            "16     294000000.0  \n"
          ]
        }
      ]
    },
    {
      "cell_type": "code",
      "source": [],
      "metadata": {
        "id": "iu9Y3rerchvR"
      },
      "execution_count": null,
      "outputs": []
    }
  ]
}