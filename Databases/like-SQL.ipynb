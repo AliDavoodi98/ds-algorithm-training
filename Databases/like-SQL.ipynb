{
  "nbformat": 4,
  "nbformat_minor": 0,
  "metadata": {
    "colab": {
      "provenance": [],
      "authorship_tag": "ABX9TyNjdqjvxyayd9oLmLsXPGI8",
      "include_colab_link": true
    },
    "kernelspec": {
      "name": "python3",
      "display_name": "Python 3"
    },
    "language_info": {
      "name": "python"
    }
  },
  "cells": [
    {
      "cell_type": "markdown",
      "metadata": {
        "id": "view-in-github",
        "colab_type": "text"
      },
      "source": [
        "<a href=\"https://colab.research.google.com/github/AliDavoodi98/ds-algorithm-training/blob/main/Databases/like-SQL.ipynb\" target=\"_parent\"><img src=\"https://colab.research.google.com/assets/colab-badge.svg\" alt=\"Open In Colab\"/></a>"
      ]
    },
    {
      "cell_type": "markdown",
      "source": [
        "**Select the columns movie_title, imdb_rating, and year_released from the table movies. Show movies that have the word ‘Godfather’ in the title.**\n",
        "\n",
        "---\n",
        "\n"
      ],
      "metadata": {
        "id": "RgWZw8lHedfH"
      }
    },
    {
      "cell_type": "code",
      "execution_count": 6,
      "metadata": {
        "id": "Ys6bl5BmM07t"
      },
      "outputs": [],
      "source": [
        "import pandas as pd\n",
        "import numpy as np\n",
        "\n",
        "# Generate some example data for movies\n",
        "np.random.seed(0)\n",
        "\n",
        "# Movie titles (example set)\n",
        "movie_titles = [f\"Movie {i}\" for i in range(1, 101)]\n",
        "\n",
        "# Genres (randomly assigned)\n",
        "genres = np.random.choice(['Action', 'Comedy', 'Drama', 'Horror', 'Sci-Fi', 'Romance', 'Adventure'], 100)\n",
        "\n",
        "# Release years (randomly between 1980 and 2023)\n",
        "release_years = np.random.randint(1980, 2024, size=100)\n",
        "\n",
        "# Directors (example set)\n",
        "directors = np.random.choice(['Director A', 'Director B', 'Director C', 'Director D', 'Director E'], 100)\n",
        "\n",
        "# Cast (each movie will have 3 random actors)\n",
        "actors = ['Actor X', 'Actor Y', 'Actor Z', 'Actor W', 'Actor V', 'Actor U', 'Actor T']\n",
        "cast = [', '.join(np.random.choice(actors, 1, replace=False)) for _ in range(100)]\n",
        "\n",
        "# Ratings (random float values between 1 and 10)\n",
        "ratings = np.round(np.random.uniform(1, 10, 100), 1)\n",
        "\n",
        "# Box office earnings (random values between $10M and $500M)\n",
        "box_office = np.random.randint(10, 500, size=100) * 1e6\n",
        "\n",
        "# Creating the DataFrame\n",
        "df = pd.DataFrame({\n",
        "    'Title': movie_titles,\n",
        "    'Genre': genres,\n",
        "    'Release Year': release_years,\n",
        "    'Director': directors,\n",
        "    'Cast': cast,\n",
        "    'Rating': ratings,\n",
        "    'Box Office ($)': box_office\n",
        "})\n",
        "\n"
      ]
    },
    {
      "cell_type": "code",
      "source": [
        "import sqlite3\n",
        "\n",
        "# Create an in-memory SQLite database\n",
        "conn = sqlite3.connect(':memory:')\n",
        "cursor = conn.cursor()\n",
        "\n",
        "# Load the DataFrame into the SQL database\n",
        "df.to_sql('my_table', conn, index=False, if_exists='replace')\n",
        "\n",
        "# Example: Run an SQL query\n",
        "query = 'SELECT * FROM my_table WHERE Title LIKE \"%Movie%\"'\n",
        "result = pd.read_sql_query(query, conn)\n",
        "\n",
        "# Display the query result\n",
        "print(result)"
      ],
      "metadata": {
        "colab": {
          "base_uri": "https://localhost:8080/"
        },
        "id": "-XCbkTQVarwH",
        "outputId": "47791cbd-baf0-4bbc-fe30-124d846df9f8"
      },
      "execution_count": 20,
      "outputs": [
        {
          "output_type": "stream",
          "name": "stdout",
          "text": [
            "        Title      Genre  Release Year    Director     Cast  Rating  \\\n",
            "0     Movie 1     Sci-Fi          2003  Director D  Actor Y     2.6   \n",
            "1     Movie 2    Romance          1995  Director B  Actor V     4.5   \n",
            "2     Movie 3     Action          1993  Director B  Actor W     9.6   \n",
            "3     Movie 4     Horror          2001  Director E  Actor Z     3.7   \n",
            "4     Movie 5     Horror          1985  Director A  Actor Y     2.4   \n",
            "..        ...        ...           ...         ...      ...     ...   \n",
            "95   Movie 96     Sci-Fi          1995  Director B  Actor T     4.1   \n",
            "96   Movie 97     Action          2021  Director C  Actor W     7.4   \n",
            "97   Movie 98  Adventure          1998  Director A  Actor Z     6.8   \n",
            "98   Movie 99     Sci-Fi          2020  Director A  Actor U     4.6   \n",
            "99  Movie 100     Horror          1995  Director C  Actor W     4.9   \n",
            "\n",
            "    Box Office ($)  \n",
            "0      492000000.0  \n",
            "1      107000000.0  \n",
            "2      248000000.0  \n",
            "3      413000000.0  \n",
            "4      378000000.0  \n",
            "..             ...  \n",
            "95     223000000.0  \n",
            "96     294000000.0  \n",
            "97     324000000.0  \n",
            "98     223000000.0  \n",
            "99      88000000.0  \n",
            "\n",
            "[100 rows x 7 columns]\n"
          ]
        }
      ]
    },
    {
      "cell_type": "code",
      "source": [],
      "metadata": {
        "id": "iu9Y3rerchvR"
      },
      "execution_count": null,
      "outputs": []
    }
  ]
}