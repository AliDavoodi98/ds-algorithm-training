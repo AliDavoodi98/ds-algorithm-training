{
  "nbformat": 4,
  "nbformat_minor": 0,
  "metadata": {
    "colab": {
      "provenance": [],
      "authorship_tag": "ABX9TyPiRfEDnlTD23oTf8kTr6++",
      "include_colab_link": true
    },
    "kernelspec": {
      "name": "python3",
      "display_name": "Python 3"
    },
    "language_info": {
      "name": "python"
    }
  },
  "cells": [
    {
      "cell_type": "markdown",
      "metadata": {
        "id": "view-in-github",
        "colab_type": "text"
      },
      "source": [
        "<a href=\"https://colab.research.google.com/github/AliDavoodi98/ds-algorithm-training/blob/main/Databases/GROUP-COUNT-SQL.ipynb\" target=\"_parent\"><img src=\"https://colab.research.google.com/assets/colab-badge.svg\" alt=\"Open In Colab\"/></a>"
      ]
    },
    {
      "cell_type": "markdown",
      "source": [
        "**Grouping Data by One Column**\n",
        "\n",
        "> Add blockquote\n",
        "\n",
        "\n",
        "\n",
        "---\n",
        "\n"
      ],
      "metadata": {
        "id": "RgWZw8lHedfH"
      }
    },
    {
      "cell_type": "code",
      "execution_count": 6,
      "metadata": {
        "id": "Ys6bl5BmM07t"
      },
      "outputs": [],
      "source": [
        "import pandas as pd\n",
        "import numpy as np\n",
        "\n",
        "# Generate some example data for movies\n",
        "np.random.seed(0)\n",
        "\n",
        "# Movie titles (example set)\n",
        "movie_titles = [f\"Movie {i}\" for i in range(1, 101)]\n",
        "\n",
        "# Genres (randomly assigned)\n",
        "genres = np.random.choice(['Action', 'Comedy', 'Drama', 'Horror', 'Sci-Fi', 'Romance', 'Adventure'], 100)\n",
        "\n",
        "# Release years (randomly between 1980 and 2023)\n",
        "release_years = np.random.randint(1980, 2024, size=100)\n",
        "\n",
        "# Directors (example set)\n",
        "directors = np.random.choice(['Director A', 'Director B', 'Director C', 'Director D', 'Director E'], 100)\n",
        "\n",
        "# Cast (each movie will have 3 random actors)\n",
        "actors = ['Actor X', 'Actor Y', 'Actor Z', 'Actor W', 'Actor V', 'Actor U', 'Actor T']\n",
        "cast = [', '.join(np.random.choice(actors, 1, replace=False)) for _ in range(100)]\n",
        "\n",
        "# Ratings (random float values between 1 and 10)\n",
        "ratings = np.round(np.random.uniform(1, 10, 100), 1)\n",
        "\n",
        "# Box office earnings (random values between $10M and $500M)\n",
        "box_office = np.random.randint(10, 500, size=100) * 1e6\n",
        "\n",
        "# Creating the DataFrame\n",
        "df = pd.DataFrame({\n",
        "    'Title': movie_titles,\n",
        "    'Genre': genres,\n",
        "    'Release Year': release_years,\n",
        "    'Director': directors,\n",
        "    'Cast': cast,\n",
        "    'Rating': ratings,\n",
        "    'Box Office ($)': box_office\n",
        "})\n",
        "\n"
      ]
    },
    {
      "cell_type": "code",
      "source": [
        "import sqlite3\n",
        "\n",
        "# Create an in-memory SQLite database\n",
        "conn = sqlite3.connect(':memory:')\n",
        "cursor = conn.cursor()\n",
        "\n",
        "# Load the DataFrame into the SQL database\n",
        "df.to_sql('my_table', conn, index=False, if_exists='replace')\n",
        "\n",
        "# Example: Run an SQL query\n",
        "query = 'SELECT Genre, Count(*) FROM my_table GROUP BY(Genre)'\n",
        "result = pd.read_sql_query(query, conn)\n",
        "\n",
        "# Display the query result\n",
        "print(result)"
      ],
      "metadata": {
        "colab": {
          "base_uri": "https://localhost:8080/"
        },
        "id": "-XCbkTQVarwH",
        "outputId": "0da81643-9953-4d11-d3db-e612b081b54e"
      },
      "execution_count": 26,
      "outputs": [
        {
          "output_type": "stream",
          "name": "stdout",
          "text": [
            "       Genre  Count(*)\n",
            "0     Action        16\n",
            "1  Adventure        12\n",
            "2     Comedy        16\n",
            "3      Drama        10\n",
            "4     Horror        19\n",
            "5    Romance         9\n",
            "6     Sci-Fi        18\n"
          ]
        }
      ]
    },
    {
      "cell_type": "code",
      "source": [],
      "metadata": {
        "id": "iu9Y3rerchvR"
      },
      "execution_count": null,
      "outputs": []
    }
  ]
}