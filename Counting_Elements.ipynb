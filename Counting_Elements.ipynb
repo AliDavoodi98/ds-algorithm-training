{
  "nbformat": 4,
  "nbformat_minor": 0,
  "metadata": {
    "colab": {
      "provenance": [],
      "authorship_tag": "ABX9TyOstA5rG3VnDPod61FMNyrB",
      "include_colab_link": true
    },
    "kernelspec": {
      "name": "python3",
      "display_name": "Python 3"
    },
    "language_info": {
      "name": "python"
    }
  },
  "cells": [
    {
      "cell_type": "markdown",
      "metadata": {
        "id": "view-in-github",
        "colab_type": "text"
      },
      "source": [
        "<a href=\"https://colab.research.google.com/github/AliDavoodi98/ds-algorithm-training/blob/main/Counting_Elements.ipynb\" target=\"_parent\"><img src=\"https://colab.research.google.com/assets/colab-badge.svg\" alt=\"Open In Colab\"/></a>"
      ]
    },
    {
      "cell_type": "code",
      "execution_count": null,
      "metadata": {
        "id": "pXa8mXJjrLhC"
      },
      "outputs": [],
      "source": [
        "class Solution:\n",
        "    def countElements(self, arr: List[int]) -> int:\n",
        "        ans = 0\n",
        "        for i in arr:\n",
        "            if i+1 in arr:\n",
        "               ans +=1\n",
        "        return ans"
      ]
    }
  ]
}