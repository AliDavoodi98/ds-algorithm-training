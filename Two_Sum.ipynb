{
  "nbformat": 4,
  "nbformat_minor": 0,
  "metadata": {
    "colab": {
      "provenance": [],
      "authorship_tag": "ABX9TyMHoP6VNB7N0mvbMkF+FVXP",
      "include_colab_link": true
    },
    "kernelspec": {
      "name": "python3",
      "display_name": "Python 3"
    },
    "language_info": {
      "name": "python"
    }
  },
  "cells": [
    {
      "cell_type": "markdown",
      "metadata": {
        "id": "view-in-github",
        "colab_type": "text"
      },
      "source": [
        "<a href=\"https://colab.research.google.com/github/AliDavoodi98/ds-algorithm-training/blob/main/Two_Sum.ipynb\" target=\"_parent\"><img src=\"https://colab.research.google.com/assets/colab-badge.svg\" alt=\"Open In Colab\"/></a>"
      ]
    },
    {
      "cell_type": "code",
      "execution_count": 18,
      "metadata": {
        "id": "yn_tk_zGvCvJ"
      },
      "outputs": [],
      "source": [
        "nums = [2,7,11,15]\n",
        "target = 18\n",
        "\n",
        "dicti = {}"
      ]
    },
    {
      "cell_type": "code",
      "source": [
        "for (i, num) in enumerate(nums):\n",
        "  dicti[num] = i\n",
        "\n",
        "dicti"
      ],
      "metadata": {
        "colab": {
          "base_uri": "https://localhost:8080/"
        },
        "id": "-9E99okxvDd_",
        "outputId": "86fe1dd8-7a51-4701-bb07-f2b838d3414d"
      },
      "execution_count": 19,
      "outputs": [
        {
          "output_type": "execute_result",
          "data": {
            "text/plain": [
              "{2: 0, 7: 1, 11: 2, 15: 3}"
            ]
          },
          "metadata": {},
          "execution_count": 19
        }
      ]
    },
    {
      "cell_type": "code",
      "source": [
        "for j in range(len(nums)):\n",
        "  if ((target - nums[j]) in dicti):\n",
        "    if dicti[target - nums[j]] != j:\n",
        "      print(dicti[target - nums[j]], j)"
      ],
      "metadata": {
        "colab": {
          "base_uri": "https://localhost:8080/"
        },
        "id": "iVf_3L4MvIkf",
        "outputId": "fccee702-3895-40b8-e1ce-bed9bd31bcc0"
      },
      "execution_count": 21,
      "outputs": [
        {
          "output_type": "stream",
          "name": "stdout",
          "text": [
            "2 1\n",
            "1 2\n"
          ]
        }
      ]
    },
    {
      "cell_type": "code",
      "source": [],
      "metadata": {
        "id": "u2qtddxH1D2P"
      },
      "execution_count": null,
      "outputs": []
    }
  ]
}